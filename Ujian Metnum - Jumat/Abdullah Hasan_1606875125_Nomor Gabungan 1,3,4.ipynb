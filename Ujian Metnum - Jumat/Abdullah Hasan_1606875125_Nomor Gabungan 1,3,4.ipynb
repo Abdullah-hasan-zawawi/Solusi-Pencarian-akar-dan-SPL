{
 "cells": [
  {
   "cell_type": "markdown",
   "metadata": {},
   "source": [
    "## Soal Nomor 1 :"
   ]
  },
  {
   "cell_type": "markdown",
   "metadata": {},
   "source": [
    "Dalam Nomor Tersebut diberikan suatu algoritma pencarian solusi akar dalam sebuah fungsi real.dalam metode tersebut diadaptasi dari metode secant berasal dari modifikasi newton berikut :"
   ]
  },
  {
   "cell_type": "markdown",
   "metadata": {},
   "source": [
    "diberikan sebuah fungsi : 𝑓(𝑥) = ln(𝑥 − 1) + cos(𝑥 − 1) − 0.2\n",
    "akan dicari akar dari fungsi tersebut dengan menggunakan beberapa parameter yaitu penentuan titik awal dan sebagainya."
   ]
  },
  {
   "cell_type": "markdown",
   "metadata": {},
   "source": [
    "#### Import Liblary :"
   ]
  },
  {
   "cell_type": "markdown",
   "metadata": {},
   "source": [
    "Import beberapa lib yang berhubungan dengan fungsi yang ada"
   ]
  },
  {
   "cell_type": "code",
   "execution_count": 1,
   "metadata": {},
   "outputs": [],
   "source": [
    "from math import exp,pi\n",
    "import numpy as np\n",
    "import matplotlib.pyplot as plt\n",
    "import pandas as pd\n",
    "import seaborn as sns\n",
    "from math import sin,cos,tan,exp,log\n",
    "from numpy import log as ln"
   ]
  },
  {
   "cell_type": "markdown",
   "metadata": {},
   "source": [
    "#### Mendefinsikan fungsi dalam permasalahan"
   ]
  },
  {
   "cell_type": "code",
   "execution_count": 4,
   "metadata": {},
   "outputs": [
    {
     "data": {
      "text/plain": [
       "<matplotlib.legend.Legend at 0x29320713470>"
      ]
     },
     "execution_count": 4,
     "metadata": {},
     "output_type": "execute_result"
    },
    {
     "data": {
      "image/png": "[encoded data removed]",
      "text/plain": [
       "<Figure size 432x288 with 1 Axes>"
      ]
     },
     "metadata": {},
     "output_type": "display_data"
    }
   ],
   "source": [
    "\n",
    "def f(x):\n",
    "    return (ln(x-1)+cos(x-1)-0.2)\n",
    "interval=np.arange(1.3,1.8,0.01)\n",
    "hasil_plot=[]\n",
    "%matplotlib inline\n",
    "for i in interval:\n",
    "    hasil_plot.append(f(i))\n",
    "import matplotlib.pyplot as plt\n",
    "plt.style.use('ggplot')\n",
    "plt.title('plot fungsi f(x)')\n",
    "plt.plot(interval,hasil_plot,label='f(x)')\n",
    "plt.legend()"
   ]
  },
  {
   "cell_type": "markdown",
   "metadata": {},
   "source": [
    "dari fungsi plot terlihat bahwa fungsi terebut memotong sumbu x pada x mendekati 1.5 namun kita akan mencoba untuk melakukan aproksimasi nilai tersebut"
   ]
  },
  {
   "cell_type": "markdown",
   "metadata": {},
   "source": [
    "## Pendefinsian Fungsi Secant dalam mencari akar"
   ]
  },
  {
   "cell_type": "code",
   "execution_count": 10,
   "metadata": {},
   "outputs": [],
   "source": [
    "from numpy import sin,cos,log,exp\n",
    "def Secant():\n",
    "    N=eval(input('sampai berapa iterasi yang dinginkan jika barisan tak konvergen ? : '))\n",
    "    tolerance=eval(input('toleransi yang dinginkan pada program ? : '))\n",
    "    p0=eval(input('nilai awal ? : '))\n",
    "    p1=p0+10**(-10)\n",
    "    secant_list=[p0,p1]\n",
    "    p = p1 - (f(p1)*(p1-p0))/(f(p1)-f(p0))            #metode secant (iterasi pertama)\n",
    "    abs_error = abs(p-p1)\n",
    "    p0 = p1                                           #disini p0 itu kayak p(n-2)\n",
    "    p1 = p\n",
    "    \n",
    "    error=0\n",
    "    for i in range(N):\n",
    "        if abs(f(p))<tolerance:\n",
    "            break\n",
    "        else:\n",
    "            p = p1 - (f(p1)*(p1-p0))/(f(p1)-f(p0))       \n",
    "                                                           #metode secant (iterasi selanjutnya)\n",
    "            p0 = p1                                           #disini p0 itu kayak p(n-2)\n",
    "            p1 = p      #p1 itu kayak p(n-1)\n",
    "            secant_list.append(p)\n",
    "    return secant_list"
   ]
  },
  {
   "cell_type": "markdown",
   "metadata": {},
   "source": [
    "dalam fungsi tersebut kita memerlukan nila awal yang akan kita coba pilih diantara 1.3 dan 1.8 misalkan kita pilih 1.4 untuk nilai awalnya dan proses berhentinya kita akan tentukan sebesar 100"
   ]
  },
  {
   "cell_type": "code",
   "execution_count": 11,
   "metadata": {},
   "outputs": [
    {
     "name": "stdout",
     "output_type": "stream",
     "text": [
      "sampai berapa iterasi yang dinginkan jika barisan tak konvergen ? : 100\n",
      "toleransi yang dinginkan pada program ? : 0.001\n",
      "nilai awal ? : 1.4\n"
     ]
    }
   ],
   "source": [
    "secant_hasil=Secant()"
   ]
  },
  {
   "cell_type": "code",
   "execution_count": 12,
   "metadata": {},
   "outputs": [
    {
     "data": {
      "text/html": [
       "<div>\n",
       "<style scoped>\n",
       "    .dataframe tbody tr th:only-of-type {\n",
       "        vertical-align: middle;\n",
       "    }\n",
       "\n",
       "    .dataframe tbody tr th {\n",
       "        vertical-align: top;\n",
       "    }\n",
       "\n",
       "    .dataframe thead th {\n",
       "        text-align: right;\n",
       "    }\n",
       "</style>\n",
       "<table border=\"1\" class=\"dataframe\">\n",
       "  <thead>\n",
       "    <tr style=\"text-align: right;\">\n",
       "      <th></th>\n",
       "      <th>akar secant</th>\n",
       "    </tr>\n",
       "  </thead>\n",
       "  <tbody>\n",
       "    <tr>\n",
       "      <td>0</td>\n",
       "      <td>1.400000</td>\n",
       "    </tr>\n",
       "    <tr>\n",
       "      <td>1</td>\n",
       "      <td>1.400000</td>\n",
       "    </tr>\n",
       "    <tr>\n",
       "      <td>2</td>\n",
       "      <td>1.507414</td>\n",
       "    </tr>\n",
       "    <tr>\n",
       "      <td>3</td>\n",
       "      <td>1.510323</td>\n",
       "    </tr>\n",
       "  </tbody>\n",
       "</table>\n",
       "</div>"
      ],
      "text/plain": [
       "   akar secant\n",
       "0     1.400000\n",
       "1     1.400000\n",
       "2     1.507414\n",
       "3     1.510323"
      ]
     },
     "execution_count": 12,
     "metadata": {},
     "output_type": "execute_result"
    }
   ],
   "source": [
    "akar_secant=pd.DataFrame(secant_hasil,columns=['akar secant'])\n",
    "akar_secant"
   ]
  },
  {
   "cell_type": "code",
   "execution_count": null,
   "metadata": {},
   "outputs": [],
   "source": []
  },
  {
   "cell_type": "code",
   "execution_count": 26,
   "metadata": {},
   "outputs": [
    {
     "data": {
      "text/plain": [
       "<matplotlib.legend.Legend at 0x293207bb588>"
      ]
     },
     "execution_count": 26,
     "metadata": {},
     "output_type": "execute_result"
    },
    {
     "data": {
      "image/png": "[encoded data removed]",
      "text/plain": [
       "<Figure size 432x288 with 1 Axes>"
      ]
     },
     "metadata": {},
     "output_type": "display_data"
    }
   ],
   "source": [
    "import matplotlib.pyplot as plt\n",
    "hasil_f=[]\n",
    "for i in secant_hasil:\n",
    "    hasil_f.append(f(i))\n",
    "import seaborn as sns\n",
    "plt.title('plot fungsi f(x) dengan menggunakan regulafasi')\n",
    "plt.plot(interval,hasil_plot,label='f(x)')\n",
    "plt.scatter(secant_hasil,hasil_f,color='black',label='aproksimasi')\n",
    "plt.legend()"
   ]
  },
  {
   "cell_type": "markdown",
   "metadata": {},
   "source": [
    "Diatas Merupakan hasil dari metode secant.Jika kita memilih titik awalnya 2.5 atau 2.3 maka yang akan kita dapatkan :"
   ]
  },
  {
   "cell_type": "code",
   "execution_count": 13,
   "metadata": {},
   "outputs": [
    {
     "name": "stdout",
     "output_type": "stream",
     "text": [
      "sampai berapa iterasi yang dinginkan jika barisan tak konvergen ? : 100\n",
      "toleransi yang dinginkan pada program ? : 0.001\n",
      "nilai awal ? : 2.5\n"
     ]
    },
    {
     "data": {
      "text/html": [
       "<div>\n",
       "<style scoped>\n",
       "    .dataframe tbody tr th:only-of-type {\n",
       "        vertical-align: middle;\n",
       "    }\n",
       "\n",
       "    .dataframe tbody tr th {\n",
       "        vertical-align: top;\n",
       "    }\n",
       "\n",
       "    .dataframe thead th {\n",
       "        text-align: right;\n",
       "    }\n",
       "</style>\n",
       "<table border=\"1\" class=\"dataframe\">\n",
       "  <thead>\n",
       "    <tr style=\"text-align: right;\">\n",
       "      <th></th>\n",
       "      <th>akar secant</th>\n",
       "    </tr>\n",
       "  </thead>\n",
       "  <tbody>\n",
       "    <tr>\n",
       "      <td>0</td>\n",
       "      <td>2.500000</td>\n",
       "    </tr>\n",
       "    <tr>\n",
       "      <td>1</td>\n",
       "      <td>2.500000</td>\n",
       "    </tr>\n",
       "    <tr>\n",
       "      <td>2</td>\n",
       "      <td>3.220347</td>\n",
       "    </tr>\n",
       "    <tr>\n",
       "      <td>3</td>\n",
       "      <td>3.198016</td>\n",
       "    </tr>\n",
       "  </tbody>\n",
       "</table>\n",
       "</div>"
      ],
      "text/plain": [
       "   akar secant\n",
       "0     2.500000\n",
       "1     2.500000\n",
       "2     3.220347\n",
       "3     3.198016"
      ]
     },
     "execution_count": 13,
     "metadata": {},
     "output_type": "execute_result"
    }
   ],
   "source": [
    "opsilain=Secant()\n",
    "akar_lain=pd.DataFrame(opsilain,columns=['akar secant'])\n",
    "akar_lain"
   ]
  },
  {
   "cell_type": "code",
   "execution_count": 38,
   "metadata": {},
   "outputs": [
    {
     "name": "stdout",
     "output_type": "stream",
     "text": [
      "sampai berapa iterasi yang dinginkan jika barisan tak konvergen ? : 100\n",
      "toleransi yang dinginkan pada program ? : 0.001\n",
      "nilai awal ? : 2.3\n"
     ]
    },
    {
     "data": {
      "text/html": [
       "<div>\n",
       "<style scoped>\n",
       "    .dataframe tbody tr th:only-of-type {\n",
       "        vertical-align: middle;\n",
       "    }\n",
       "\n",
       "    .dataframe tbody tr th {\n",
       "        vertical-align: top;\n",
       "    }\n",
       "\n",
       "    .dataframe thead th {\n",
       "        text-align: right;\n",
       "    }\n",
       "</style>\n",
       "<table border=\"1\" class=\"dataframe\">\n",
       "  <thead>\n",
       "    <tr style=\"text-align: right;\">\n",
       "      <th></th>\n",
       "      <th>akar secant</th>\n",
       "    </tr>\n",
       "  </thead>\n",
       "  <tbody>\n",
       "    <tr>\n",
       "      <td>0</td>\n",
       "      <td>2.300000</td>\n",
       "    </tr>\n",
       "    <tr>\n",
       "      <td>1</td>\n",
       "      <td>2.300000</td>\n",
       "    </tr>\n",
       "    <tr>\n",
       "      <td>2</td>\n",
       "      <td>3.627709</td>\n",
       "    </tr>\n",
       "    <tr>\n",
       "      <td>3</td>\n",
       "      <td>6.637726</td>\n",
       "    </tr>\n",
       "    <tr>\n",
       "      <td>4</td>\n",
       "      <td>3.757275</td>\n",
       "    </tr>\n",
       "    <tr>\n",
       "      <td>5</td>\n",
       "      <td>3.890389</td>\n",
       "    </tr>\n",
       "    <tr>\n",
       "      <td>6</td>\n",
       "      <td>6.444228</td>\n",
       "    </tr>\n",
       "    <tr>\n",
       "      <td>7</td>\n",
       "      <td>4.011018</td>\n",
       "    </tr>\n",
       "    <tr>\n",
       "      <td>8</td>\n",
       "      <td>4.107405</td>\n",
       "    </tr>\n",
       "    <tr>\n",
       "      <td>9</td>\n",
       "      <td>4.375653</td>\n",
       "    </tr>\n",
       "    <tr>\n",
       "      <td>10</td>\n",
       "      <td>4.268201</td>\n",
       "    </tr>\n",
       "    <tr>\n",
       "      <td>11</td>\n",
       "      <td>4.284349</td>\n",
       "    </tr>\n",
       "  </tbody>\n",
       "</table>\n",
       "</div>"
      ],
      "text/plain": [
       "    akar secant\n",
       "0      2.300000\n",
       "1      2.300000\n",
       "2      3.627709\n",
       "3      6.637726\n",
       "4      3.757275\n",
       "5      3.890389\n",
       "6      6.444228\n",
       "7      4.011018\n",
       "8      4.107405\n",
       "9      4.375653\n",
       "10     4.268201\n",
       "11     4.284349"
      ]
     },
     "execution_count": 38,
     "metadata": {},
     "output_type": "execute_result"
    }
   ],
   "source": [
    "opsilain=Secant()\n",
    "akar_lain=pd.DataFrame(opsilain,columns=['akar secant'])\n",
    "akar_lain"
   ]
  },
  {
   "cell_type": "markdown",
   "metadata": {},
   "source": [
    "di dapatkan bahwa nilainya menjauhi dari akar aslinya yang nilainya mendekati 1.5 sekian,sehingga nomor satu sudah terjawab."
   ]
  },
  {
   "cell_type": "markdown",
   "metadata": {},
   "source": [
    "# Soal Nomor 3"
   ]
  },
  {
   "cell_type": "markdown",
   "metadata": {},
   "source": [
    "dalam nomor ini kita diminta untuk melakukan faktorisasi menggunakan metode LU yang menhaslkan O(h^2)"
   ]
  },
  {
   "cell_type": "markdown",
   "metadata": {},
   "source": [
    "#### Pendefinisian Matrix :"
   ]
  },
  {
   "cell_type": "code",
   "execution_count": 15,
   "metadata": {},
   "outputs": [],
   "source": [
    "matrix=np.matrix([[2,-1,1],[3,3,9],[3,3,5]])"
   ]
  },
  {
   "cell_type": "code",
   "execution_count": 16,
   "metadata": {},
   "outputs": [
    {
     "name": "stdout",
     "output_type": "stream",
     "text": [
      "[[ 2 -1  1]\n",
      " [ 3  3  9]\n",
      " [ 3  3  5]]\n"
     ]
    }
   ],
   "source": [
    "print(matrix)"
   ]
  },
  {
   "cell_type": "markdown",
   "metadata": {},
   "source": [
    "diatas merupakan matrix yang akan kita coba faktorisasikan sehingga nantinya kita mendapatkan output berupa matriks segita atas dan bawah."
   ]
  },
  {
   "cell_type": "markdown",
   "metadata": {},
   "source": [
    "#### Pendefinisian Faktorisasi Matrix :"
   ]
  },
  {
   "cell_type": "code",
   "execution_count": 17,
   "metadata": {},
   "outputs": [
    {
     "name": "stdout",
     "output_type": "stream",
     "text": [
      "Masukan matriks yang akan di faktorisasi :\n",
      "[[2,-1,1],[3,3,9],[3,3,5]]\n",
      "faktorisasi LU matriksnya adalah :\n",
      " L = [[1.  0.  0. ]\n",
      " [1.5 1.  0. ]\n",
      " [1.5 1.  1. ]]\n",
      "U = [[ 2 -1  1]\n",
      " [ 0  4  7]\n",
      " [ 0  0 -4]]\n",
      "[[ 2.  -1.   1. ]\n",
      " [ 3.   2.5  8.5]\n",
      " [ 3.   2.5  4.5]]\n"
     ]
    }
   ],
   "source": [
    "import numpy as np\n",
    "matrix = np.array(eval(input(\"Masukan matriks yang akan di faktorisasi :\\n\")))\n",
    "\n",
    "def LUFactorization(matrix):\n",
    "    n = np.shape(matrix)[0] #baris matrix\n",
    "    L = np.identity(n)  #Pertama L didefinisikan sebagai matrix indentitas nxn\n",
    "    #operasi baris elementer\n",
    "    for i in range(n):\n",
    "        for j in range(i+1,n):\n",
    "            m = matrix[j,i]/matrix[i,i]\n",
    "            L[j,i] = m #Pasang elemen L_ji menjadi multiplisitas m = a_ji/a_ii\n",
    "            matrix[j]= matrix[j]-m*matrix[i]\n",
    "    return (L,matrix)  \n",
    "L = LUFactorization(matrix)[0]\n",
    "U = LUFactorization(matrix)[1]\n",
    "print(\"faktorisasi LU matriksnya adalah :\\n L = {0}\".format(L))  #print L\n",
    "#print U\n",
    "print(\"U = {0}\".format(U))\n",
    "LU = np.dot(L,U)   #Hasil perkalian L dan U\n",
    "print(LU)"
   ]
  },
  {
   "cell_type": "markdown",
   "metadata": {},
   "source": [
    "Dalam Algoritma Diatas Kita dapatkan bahwa nilai dari Faktorisasi dengan menggunakan LU kita dapatkan matriksnya adalah :"
   ]
  },
  {
   "cell_type": "markdown",
   "metadata": {},
   "source": [
    "Untuk Nila L :"
   ]
  },
  {
   "cell_type": "code",
   "execution_count": 21,
   "metadata": {},
   "outputs": [
    {
     "data": {
      "text/plain": [
       "matrix([[1. , 0. , 0. ],\n",
       "        [1.5, 1. , 0. ],\n",
       "        [1.5, 1. , 1. ]])"
      ]
     },
     "execution_count": 21,
     "metadata": {},
     "output_type": "execute_result"
    }
   ],
   "source": [
    "np.matrix([[1.,0.,  0. ],[1.5, 1.,  0. ],[1.5 ,1.,  1. ]])"
   ]
  },
  {
   "cell_type": "markdown",
   "metadata": {},
   "source": [
    "Untuk Nilai U :"
   ]
  },
  {
   "cell_type": "code",
   "execution_count": 22,
   "metadata": {},
   "outputs": [
    {
     "data": {
      "text/plain": [
       "matrix([[ 2, -1,  1],\n",
       "        [ 0,  4,  7],\n",
       "        [ 0,  0, -4]])"
      ]
     },
     "execution_count": 22,
     "metadata": {},
     "output_type": "execute_result"
    }
   ],
   "source": [
    "np.matrix([[ 2, -1,  1],\n",
    " [ 0,  4 , 7],\n",
    " [ 0 , 0 ,-4]])"
   ]
  },
  {
   "cell_type": "markdown",
   "metadata": {},
   "source": [
    "dan hasil dari perkalian matriks tersebut adalah "
   ]
  },
  {
   "cell_type": "code",
   "execution_count": 24,
   "metadata": {},
   "outputs": [
    {
     "name": "stdout",
     "output_type": "stream",
     "text": [
      "[[ 2.  -1.   1. ]\n",
      " [ 3.   2.5  8.5]\n",
      " [ 3.   2.5  4.5]]\n"
     ]
    }
   ],
   "source": [
    "U=np.matrix([[ 2, -1,  1],\n",
    " [ 0,  4 , 7],\n",
    " [ 0 , 0 ,-4]])\n",
    "L=np.matrix(np.matrix([[1.,0.,  0. ],[1.5, 1.,  0. ],[1.5 ,1.,  1. ]]))\n",
    "\n",
    "LU=np.dot(L,U)\n",
    "print(LU)"
   ]
  },
  {
   "cell_type": "markdown",
   "metadata": {},
   "source": [
    "# Soal Nomor 4"
   ]
  },
  {
   "cell_type": "markdown",
   "metadata": {},
   "source": [
    "Metode Gauss-Seidel adalah perkembangan dari metode Jacobi, dimana nilai $x_1,\\dots,x_{i-1}$ yang baru digunakan untuk menghitung $x_i$ (pada metode Jacobi, nilai baru tersebut disimpan dahulu baru digunakan di iterasi berikutnya). Metode Gauss-Seidel memiliki rumus sebagai berikut :\n",
    "$$x_i^{(k)} = \\frac{1}{a_{ii}}\\left[-\\sum_{j=1}^{i-1} \\left(a_{ij}x_j^{(k)}\\right) -\\sum_{j=i+1}^{n} \\left(a_{ij}x_j^{(k-1)}\\right)+ b_i\\right], i = 1,2,\\dots,n$$<br>\n",
    "Kode Python metode Gauss-Seidel adalah sebagai berikut."
   ]
  },
  {
   "cell_type": "markdown",
   "metadata": {},
   "source": [
    "#### Pendefinisian Metode :"
   ]
  },
  {
   "cell_type": "code",
   "execution_count": 35,
   "metadata": {},
   "outputs": [
    {
     "name": "stdout",
     "output_type": "stream",
     "text": [
      "Masukkan augmented matrix dari SPL yang akan diselesaikan : [[10,-1,2,0,6],[-1,11,-1,3,25],[2,-1,10,-1,-11],[0,3,-1,8,15]]\n",
      "Masukkan tebakan awal solusi : [[0],[0],[0],[0]]\n",
      "Masukkan toleransi : 10**(-4)\n",
      "Aproksimasi solusi SPL tersebut dengan metode Gauss-Seidel adalah :\n",
      "[[ 1.00000836]\n",
      " [ 2.00000117]\n",
      " [-1.00000275]\n",
      " [ 0.99999922]]\n"
     ]
    }
   ],
   "source": [
    "import numpy as np\n",
    "\n",
    "aug_matrix = np.array(eval(input('Masukkan augmented matrix dari SPL yang akan diselesaikan : ')))\n",
    "initial_solution = np.array(eval(input('Masukkan tebakan awal solusi : ')),dtype=float)\n",
    "tolerance = eval(input('Masukkan toleransi : '))\n",
    "\n",
    "def GaussSeidel(matrix,initial,tol):                \n",
    "    n = np.shape(matrix)[0]                    #ukuran matriks/banyak variabel\n",
    "    x0 = initial                               #definisikan x0 sebagai tebakan awal\n",
    "    x = x0.copy()                              #definisikan x = x0 (gunakan .copy() agar \n",
    "    #jika x0 berubah, x tidak berubah)\n",
    "    for i in range(n):\n",
    "        b = matrix[i,n]                        #konstanta pada SPL\n",
    "        for j in range(n):                     #metode Gauss-Seidel\n",
    "            if j!=i:\n",
    "                if j<i:\n",
    "                    b-=matrix[i,j]*x[j]\n",
    "                else:\n",
    "                    b-=matrix[i,j]*x0[j]\n",
    "        x[i]=b/matrix[i,i]                     #hasil aproksimasi Gauss-Seidel\n",
    "    #print(x)\n",
    "    while np.linalg.norm(x-x0,np.inf)>=tol:    #pengecekan kriteria penyetop menggunakan error mutlak\n",
    "        x0 = x                                 #definisikan x0 sebagai x(k-1)\n",
    "        x = x0.copy()                          #definisikan x sebagai x(k), namun awalnya samakan dengan x0\n",
    "        for i in range(n):                     #metode Gauss-Seidel\n",
    "            b = matrix[i,n]\n",
    "            for j in range(n):\n",
    "                if j!=i:\n",
    "                    if j<i:\n",
    "                        b-=matrix[i,j]*x[j]\n",
    "                    else:\n",
    "                        b-=matrix[i,j]*x0[j]\n",
    "            x[i]=b/matrix[i,i]\n",
    "        #print(x)\n",
    "    return x                                   #nilai yang direturn fungsi ini adalah x(k)\n",
    "\n",
    "print('Aproksimasi solusi SPL tersebut dengan metode Gauss-Seidel adalah :')\n",
    "print(GaussSeidel(aug_matrix,initial_solution,tolerance))\n",
    "#test : \n",
    "#matriks : [[10,-1,2,0,6],[-1,11,-1,3,25],[2,-1,10,-1,-11],[0,3,-1,8,15]]\n",
    "#solusi awal : [0,0,0,0]\n",
    "#toleransi : 10**-3"
   ]
  },
  {
   "cell_type": "markdown",
   "metadata": {},
   "source": [
    "#### Matrix permasalahan :"
   ]
  },
  {
   "cell_type": "code",
   "execution_count": 29,
   "metadata": {},
   "outputs": [],
   "source": [
    "matrix_A=np.matrix([[10,-1,2,0],[-1,11,-1,3],[2,-1,10,-1],[0,3,-1,8]])"
   ]
  },
  {
   "cell_type": "code",
   "execution_count": 30,
   "metadata": {},
   "outputs": [
    {
     "name": "stdout",
     "output_type": "stream",
     "text": [
      "[[10 -1  2  0]\n",
      " [-1 11 -1  3]\n",
      " [ 2 -1 10 -1]\n",
      " [ 0  3 -1  8]]\n"
     ]
    }
   ],
   "source": [
    "print(matrix_A)"
   ]
  },
  {
   "cell_type": "markdown",
   "metadata": {},
   "source": [
    "#### Matrix Tebakan :"
   ]
  },
  {
   "cell_type": "code",
   "execution_count": 31,
   "metadata": {},
   "outputs": [],
   "source": [
    "matrix_tebakan=np.matrix([[0],[0],[0],[0]])"
   ]
  },
  {
   "cell_type": "code",
   "execution_count": 33,
   "metadata": {},
   "outputs": [
    {
     "name": "stdout",
     "output_type": "stream",
     "text": [
      "[[0]\n",
      " [0]\n",
      " [0]\n",
      " [0]]\n"
     ]
    }
   ],
   "source": [
    "print(matrix_tebakan)"
   ]
  },
  {
   "cell_type": "markdown",
   "metadata": {},
   "source": [
    "dengan menggunakan metode gaus siedel kita dapatkan hasilnya sebagai berikut :"
   ]
  },
  {
   "cell_type": "code",
   "execution_count": 37,
   "metadata": {},
   "outputs": [
    {
     "name": "stdout",
     "output_type": "stream",
     "text": [
      "[[ 1.00000836]\n",
      " [ 2.00000117]\n",
      " [-1.00000275]\n",
      " [ 0.99999922]]\n"
     ]
    }
   ],
   "source": [
    "hasil_gaus_siedel=np.matrix([[ 1.00000836]\n",
    " ,[ 2.00000117]\n",
    " ,[-1.00000275]\n",
    " ,[ 0.99999922]])\n",
    "print(hasil_gaus_siedel)"
   ]
  },
  {
   "cell_type": "code",
   "execution_count": null,
   "metadata": {},
   "outputs": [],
   "source": []
  }
 ],
 "metadata": {
  "kernelspec": {
   "display_name": "Python 3",
   "language": "python",
   "name": "python3"
  },
  "language_info": {
   "codemirror_mode": {
    "name": "ipython",
    "version": 3
   },
   "file_extension": ".py",
   "mimetype": "text/x-python",
   "name": "python",
   "nbconvert_exporter": "python",
   "pygments_lexer": "ipython3",
   "version": "3.7.1"
  }
 },
 "nbformat": 4,
 "nbformat_minor": 2
}
